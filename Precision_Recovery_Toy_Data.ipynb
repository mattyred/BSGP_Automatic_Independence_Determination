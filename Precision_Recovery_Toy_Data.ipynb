{
 "cells": [
  {
   "cell_type": "code",
   "execution_count": 51,
   "metadata": {},
   "outputs": [],
   "source": [
    "import numpy as np\n",
    "import tensorflow as tf\n",
    "import seaborn as sns\n",
    "import matplotlib.pyplot as plt\n",
    "from sklearn.model_selection import train_test_split\n",
    "from bsgp.models import RegressionModel\n",
    "from pprint import pprint\n",
    "import ipywidgets as widgets\n",
    "import tensorflow_probability as tfp"
   ]
  },
  {
   "attachments": {},
   "cell_type": "markdown",
   "metadata": {},
   "source": [
    "Utility function to set the seed"
   ]
  },
  {
   "cell_type": "code",
   "execution_count": 52,
   "metadata": {},
   "outputs": [],
   "source": [
    "def set_seed(seed):\n",
    "    import random\n",
    "    random.seed(seed)\n",
    "    np.random.seed(seed)\n",
    "    tf.compat.v1.set_random_seed(seed)"
   ]
  },
  {
   "attachments": {},
   "cell_type": "markdown",
   "metadata": {},
   "source": [
    "Utility functions to plot the precision matrix $\\Lambda$"
   ]
  },
  {
   "cell_type": "code",
   "execution_count": 53,
   "metadata": {},
   "outputs": [],
   "source": [
    "def plot_precision(precision_matrix):\n",
    "    plt.figure()\n",
    "    max = np.max(precision_matrix)\n",
    "    sns.heatmap(precision_matrix, annot=True, cmap='vlag', vmax=max, vmin=-max, center=0, linewidth=.5)\n",
    "    plt.show()"
   ]
  },
  {
   "attachments": {},
   "cell_type": "markdown",
   "metadata": {},
   "source": [
    "Utility functions to generate precision matrix $\\Lambda$ with only diagonal or also with off-diagonal non-zero elements"
   ]
  },
  {
   "cell_type": "code",
   "execution_count": 54,
   "metadata": {},
   "outputs": [],
   "source": [
    "def random_diag_precision(D):\n",
    "    return np.diag(np.random.uniform(0,1,D))\n",
    "def random_notdiag_precision(D):\n",
    "    sparsity = 0.5\n",
    "    precision = np.random.rand(D, D)\n",
    "    precision[precision < sparsity] = 0\n",
    "    precision = np.triu(precision) + np.triu(precision, 1).T\n",
    "    return precision\n",
    "def random_offdiag_precision(D, random_offdiag='no', n_offdiag=1):\n",
    "    diag = np.ones(D)\n",
    "    L = np.diag(diag, 0)\n",
    "    if n_offdiag > D-1:\n",
    "        n_offdiag = D-1\n",
    "    for n in range(n_offdiag):\n",
    "        i = n+1\n",
    "        # define the offdiagonal\n",
    "        if random_offdiag == 'no':\n",
    "            offdiag = D**0.5 * np.ones(D-i)\n",
    "        elif random_offdiag == 'uniform':\n",
    "            offdiag = np.random.uniform(0, 1, D-i)\n",
    "        elif random_offdiag == 'gaussian':\n",
    "            offdiag = np.random.normal(-1, 1, D-i)\n",
    "        # add it to the matrix L\n",
    "        L += np.diag(offdiag, -i)\n",
    "    # define the precision matrix\n",
    "    precision = L @ L.T\n",
    "    # normalize the precision matrix to have ones on the diagonal\n",
    "    diag_m = np.diag(1/np.diag(precision))\n",
    "    return (np.sqrt(diag_m) @ precision) @ np.sqrt(diag_m)"
   ]
  },
  {
   "attachments": {},
   "cell_type": "markdown",
   "metadata": {},
   "source": [
    "Utility function to compute the kernel matrix $K_{xx|\\Theta}$:\n",
    "$$\n",
    "k_{LRBF}(\\mathbf{x,x';\\Lambda}) = \\sigma_f^2exp\\left(-\\frac{1}{2}(\\mathbf{x-x'})^T\\mathbf{\\Lambda}(\\mathbf{x-x'})\\right) ,\\qquad \\mathbf{\\Lambda}=\\mathbf{\\Sigma}^{-1} \\in \\mathrm{R}^{DxD}\n",
    "$$"
   ]
  },
  {
   "cell_type": "code",
   "execution_count": 14,
   "metadata": {},
   "outputs": [],
   "source": [
    "def _z(X, Lambda):\n",
    "        XLambda = X @ Lambda\n",
    "        XLambdaX = np.multiply(XLambda, X)\n",
    "        return np.sum(XLambdaX, axis=1, keepdims=True)\n",
    "def K_lrbf(kernel_variance, X, Lambda, X2=None):\n",
    "    \"\"\"\n",
    "            X: matrix NxD\n",
    "            X2: matrix NxD\n",
    "            ---\n",
    "            Returns Kernel matrix as a 2D tensor\n",
    "    \"\"\"\n",
    "    if X2 is None:\n",
    "        X2 = X\n",
    "    N1 = X.shape[0]\n",
    "    N2 = X2.shape[0]\n",
    "\n",
    "    # compute z, z2\n",
    "    z = _z(X, Lambda) # N1x1 array\n",
    "    z2 = _z(X2, Lambda) # N2x1 array\n",
    "    # compute X(X2Λ)ᵀ\n",
    "    X2Lambda = X2 @ Lambda\n",
    "    XX2LambdaT = X @ X2Lambda.T # N1xN2 matrix\n",
    "    # compute z1ᵀ \n",
    "    ones_N2 = np.ones(shape=(N2,1)) # N2x1 array\n",
    "    zcol = z @ ones_N2.T # N1xN2 matrix\n",
    "    # compute 1z2ᵀ \n",
    "    ones_N1 = np.ones(shape=(N1,1)) # N1x1 array\n",
    "    zrow = ones_N1 @ z2.T # N1xN2 matrix\n",
    "\n",
    "    exp_arg = zcol - 2*XX2LambdaT + zrow\n",
    "    Kxx = np.exp(-0.5 * exp_arg)\n",
    "    return kernel_variance * Kxx"
   ]
  },
  {
   "attachments": {},
   "cell_type": "markdown",
   "metadata": {},
   "source": [
    "Utility function to generate the toy dataset"
   ]
  },
  {
   "cell_type": "code",
   "execution_count": 56,
   "metadata": {},
   "outputs": [],
   "source": [
    "def generate_dataset(precision, covariance, n=100, kernel_variance=1.0, noise_variance=0.1, random_state=0):\n",
    "    d = covariance.shape[0]\n",
    "    # sampling from known covariance \n",
    "    X = np.random.multivariate_normal(np.zeros(d), np.eye(d), size=n)\n",
    "    K = K_lrbf(kernel_variance, X, precision)\n",
    "    noise = np.random.normal(0, noise_variance, size=n)\n",
    "    Y = (np.random.multivariate_normal(np.zeros(n), K, size=1) + noise).reshape(-1,1)\n",
    "    # train-test split\n",
    "    X = (X - np.mean(X, axis=0)) / np.std(X, axis=0) # center the dataset\n",
    "    X_train, X_test, Y_train, Y_test = train_test_split(X, Y, test_size=0.2, random_state=random_state, shuffle=True)\n",
    "    Y_train_mean, Y_train_std = Y_train.mean(0), Y_train.std(0) + 1e-9\n",
    "    Y_train = (Y_train - Y_train_mean) / Y_train_std\n",
    "    Y_test = (Y_test - Y_train_mean) / Y_train_std\n",
    "    return X_train, Y_train, X_test, Y_test, Y_train_mean, Y_train_std"
   ]
  },
  {
   "attachments": {},
   "cell_type": "markdown",
   "metadata": {},
   "source": [
    "Define $D$ and create a precision matrix"
   ]
  },
  {
   "cell_type": "code",
   "execution_count": 55,
   "metadata": {},
   "outputs": [
    {
     "data": {
      "image/png": "[encoded data removed]",
      "text/plain": [
       "<Figure size 640x480 with 2 Axes>"
      ]
     },
     "metadata": {},
     "output_type": "display_data"
    }
   ],
   "source": [
    "D = 5\n",
    "precision = random_offdiag_precision(D, random_offdiag='gaussian', n_offdiag=0)\n",
    "covariance = np.linalg.inv(precision) \n",
    "plot_precision(precision)"
   ]
  },
  {
   "attachments": {},
   "cell_type": "markdown",
   "metadata": {},
   "source": [
    "Generate the toy dataset specifying the parameters"
   ]
  },
  {
   "cell_type": "code",
   "execution_count": 57,
   "metadata": {},
   "outputs": [],
   "source": [
    "X_train, Y_train, X_test, Y_test, Y_train_mean, Y_train_std = generate_dataset(precision, covariance, noise_variance=0.1, kernel_variance=1, n=500)"
   ]
  },
  {
   "attachments": {},
   "cell_type": "markdown",
   "metadata": {},
   "source": [
    "Train the model with Full-precision kernel"
   ]
  },
  {
   "cell_type": "code",
   "execution_count": 45,
   "metadata": {},
   "outputs": [],
   "source": [
    "prior_type = 'normal'\n",
    "num_inducing = 100\n",
    "minibatch_size = 1000\n",
    "iterations = 1024\n",
    "n_layers = 1\n",
    "num_posterior_samples = 256\n",
    "step_size = 0.01"
   ]
  },
  {
   "cell_type": "code",
   "execution_count": 46,
   "metadata": {},
   "outputs": [
    {
     "name": "stdout",
     "output_type": "stream",
     "text": [
      "Number of inducing points: 100\n",
      "================= DGP\n",
      " Input dim = 5\n",
      " Output dim = 1\n",
      " Depth = 1\n",
      " |============ GP Layer \n",
      " | Input dim = 5\n",
      " | Output dim = 1\n",
      " | Num inducing = 100\n",
      " | Prior on inducing positions = normal\n",
      " | |======= Kernel: FullPrecisionRBF\n",
      " | | Variance = 0.100\n",
      "TRAIN | iter =      1      sample marginal LL = -2.08\n",
      "TRAIN | iter =    251      sample marginal LL = -2.62\n",
      "TRAIN | iter =    501      sample marginal LL = -2.23\n",
      "TRAIN | iter =    751      sample marginal LL = -1.78\n",
      "TRAIN | iter =   1001      sample marginal LL = -2.03\n"
     ]
    }
   ],
   "source": [
    "set_seed(0)\n",
    "if minibatch_size > len(X_train): minibatch_size = len(X_train)\n",
    "model = RegressionModel(prior_type)\n",
    "model.ARGS.num_inducing = num_inducing\n",
    "model.ARGS.minibatch_size = minibatch_size\n",
    "model.ARGS.iterations = iterations\n",
    "model.ARGS.n_layers = n_layers\n",
    "model.ARGS.num_posterior_samples = num_posterior_samples\n",
    "model.ARGS.prior_type = prior_type\n",
    "model.ARGS.full_cov = False\n",
    "model.ARGS.posterior_sample_spacing = 32\n",
    "print('Number of inducing points: %d' % model.ARGS.num_inducing)\n",
    "model.ARGS.precise_kernel = 1 \n",
    "model.fit(X_train, Y_train, epsilon=step_size)\n",
    "test_mll = model.calculate_density(X_test, Y_test, Y_train_mean, Y_train_std).mean().tolist()\n",
    "#save_results(filepath, test_mll, precise_kernel, model.posterior_samples_kerncov, model.posterior_samples_kerlogvar) # kerncov: L matrix for LBRF / lengthscales for ARD"
   ]
  },
  {
   "cell_type": "code",
   "execution_count": 47,
   "metadata": {},
   "outputs": [
    {
     "name": "stdout",
     "output_type": "stream",
     "text": [
      "{'fold': 0,\n",
      " 'minibatch_size': 400,\n",
      " 'model': 'BSGP',\n",
      " 'n_layers': 1,\n",
      " 'num_inducing': 100,\n",
      " 'precise_kernel': 1,\n",
      " 'prior_type': 'normal',\n",
      " 'test_mnll': 0.40583134794966697}\n"
     ]
    }
   ],
   "source": [
    "results = dict()\n",
    "results['model'] = 'BSGP'\n",
    "results['num_inducing'] = num_inducing\n",
    "results['minibatch_size'] = minibatch_size\n",
    "results['n_layers'] = n_layers\n",
    "results['prior_type'] = prior_type\n",
    "results['fold'] = 0\n",
    "results['test_mnll'] = -test_mll\n",
    "results['precise_kernel'] = 1\n",
    "pprint(results)"
   ]
  },
  {
   "cell_type": "code",
   "execution_count": 48,
   "metadata": {},
   "outputs": [],
   "source": [
    "posterior_samples_L_precision = [np.array(model.posterior_samples_kerncov[i]) for i in range(num_posterior_samples)]\n",
    "posterior_samples_loglengthscales = [np.array(model.posterior_samples_kerlogvar[i]) for i in range(num_posterior_samples)]"
   ]
  },
  {
   "cell_type": "code",
   "execution_count": 49,
   "metadata": {},
   "outputs": [],
   "source": [
    "def fill_triangular(input_tensor, upper=False):\n",
    "    if len(input_tensor.shape) != 1:\n",
    "        raise ValueError(\"Input tensor must be 1D.\")\n",
    "\n",
    "    n = input_tensor.shape[0]\n",
    "    m = int((-1 + np.sqrt(1 + 8 * n)) / 2)  # Calculate the size of the matrix\n",
    "\n",
    "    if m * (m + 1) // 2 != n:\n",
    "        raise ValueError(\"Input tensor must have a valid size.\")\n",
    "\n",
    "    output = np.zeros((m, m), dtype=input_tensor.dtype)\n",
    "\n",
    "    if upper:\n",
    "        tril_indices = np.tril_indices(m)\n",
    "        output[tril_indices] = input_tensor\n",
    "    else:\n",
    "        triu_indices = np.triu_indices(m)\n",
    "        output[triu_indices] = input_tensor\n",
    "\n",
    "    return output"
   ]
  },
  {
   "cell_type": "code",
   "execution_count": 50,
   "metadata": {},
   "outputs": [
    {
     "data": {
      "application/vnd.jupyter.widget-view+json": {
       "model_id": "6ab3c1f98a374c68a14a397cea523414",
       "version_major": 2,
       "version_minor": 0
      },
      "text/plain": [
       "interactive(children=(Dropdown(description='sample', options=(0, 1, 2, 3, 4, 5, 6, 7, 8, 9, 10, 11, 12, 13, 14…"
      ]
     },
     "metadata": {},
     "output_type": "display_data"
    },
    {
     "data": {
      "text/plain": [
       "<function __main__.plot_histogram(sample)>"
      ]
     },
     "execution_count": 50,
     "metadata": {},
     "output_type": "execute_result"
    }
   ],
   "source": [
    "def plot_histogram(sample):\n",
    "    fig, ax = plt.subplots(1, 2, figsize=(15, 5))\n",
    "    L = fill_triangular(posterior_samples_L_precision[sample]) # recover L matrix from L array\n",
    "    LRBF_precision = L @ L.T # full matrix\n",
    "    max_LRBF = np.max(LRBF_precision)\n",
    "    sns.heatmap(LRBF_precision, annot=True, cmap='vlag', vmax=max_LRBF, vmin=-max_LRBF, center=0, linewidth=.5, ax=ax[0])\n",
    "    max_precision = np.max(precision)\n",
    "    sns.heatmap(precision, annot=True, cmap='vlag', vmax=max_LRBF, vmin=-max_LRBF, center=0, linewidth=.5, ax=ax[1])\n",
    "    plt.show()     \n",
    "widgets.interact(plot_histogram, sample=np.arange(0,num_posterior_samples,1))"
   ]
  },
  {
   "cell_type": "code",
   "execution_count": null,
   "metadata": {},
   "outputs": [],
   "source": []
  }
 ],
 "metadata": {
  "kernelspec": {
   "display_name": "sproj",
   "language": "python",
   "name": "python3"
  },
  "language_info": {
   "codemirror_mode": {
    "name": "ipython",
    "version": 3
   },
   "file_extension": ".py",
   "mimetype": "text/x-python",
   "name": "python",
   "nbconvert_exporter": "python",
   "pygments_lexer": "ipython3",
   "version": "3.8.16"
  },
  "orig_nbformat": 4
 },
 "nbformat": 4,
 "nbformat_minor": 2
}
