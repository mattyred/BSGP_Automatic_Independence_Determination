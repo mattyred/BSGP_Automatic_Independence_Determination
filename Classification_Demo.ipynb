{
 "cells": [
  {
   "attachments": {},
   "cell_type": "markdown",
   "metadata": {},
   "source": [
    "# BSGP model Tutorial"
   ]
  },
  {
   "cell_type": "code",
   "execution_count": 9,
   "metadata": {},
   "outputs": [],
   "source": [
    "import numpy as np\n",
    "import pandas as pd\n",
    "import torch\n",
    "from torch.utils.data import  TensorDataset"
   ]
  },
  {
   "cell_type": "code",
   "execution_count": 56,
   "metadata": {},
   "outputs": [],
   "source": [
    "def csv_to_pth(name, csv_path, pth_path, header=None, clf=False):\n",
    "    def dataframe_to_arrays(df):\n",
    "        df_ = df.copy(deep=True)\n",
    "        X = np.atleast_2d(df_[input_cols].to_numpy())\n",
    "        Y = np.atleast_2d(df_[output_cols].to_numpy().reshape(-1,1))\n",
    "        return X, Y\n",
    "    dataframe_raw = pd.read_csv(csv_path, delimiter=',', header=header)\n",
    "    dataframe_raw.head()\n",
    "    input_cols = list(dataframe_raw.columns)[:-1]\n",
    "    output_cols = list(dataframe_raw.columns)[-1]\n",
    "    X, Y = dataframe_to_arrays(dataframe_raw)\n",
    "    Y[Y==-1] = 0 if clf else None\n",
    "    X = (X - np.mean(X, axis=0)) / np.std(X, axis=0)\n",
    "    inputs = torch.tensor(X, dtype=torch.float64)\n",
    "    targets = torch.tensor(Y, dtype=torch.float64)\n",
    "    torch.save([inputs, targets], pth_path + name + '.pth')\n",
    "    return input_cols, output_cols\n",
    "input_cols, output_cols = csv_to_pth(\"credit\", \"data/credit.csv\", \"data/\", clf=True)"
   ]
  },
  {
   "cell_type": "code",
   "execution_count": 53,
   "metadata": {},
   "outputs": [],
   "source": [
    "def create_dataset(dataset, static, fold):\n",
    "    dataset_path = ('./data/' + dataset + '.pth')\n",
    "    dataset = TensorDataset(*torch.load(dataset_path))\n",
    "    X, Y = dataset.tensors\n",
    "    X, Y = X.numpy(), Y.numpy()\n",
    "\n",
    "    if static == False:\n",
    "        Y_mean, Y_std = Y.mean(0), Y.std(0) + 1e-9\n",
    "        #Y = (Y - Y_mean) / Y_std\n",
    "        return X, Y, Y_mean, Y_std\n",
    "    else:\n",
    "        #X_train, X_test, Y_train, Y_test = train_test_split(X, Y, test_size=0.20, random_state=fold)\n",
    "        X_train_indices_boolean = np.random.choice([1, 0], size=X.shape[0], p=[0.8, 0.2])\n",
    "        X_train_indices = np.where(X_train_indices_boolean == 1)[0]\n",
    "        X_test_indices = np.where(X_train_indices_boolean == 0)[0]\n",
    "        X_train = X[X_train_indices]\n",
    "        Y_train = Y[X_train_indices]\n",
    "        X_test = X[X_test_indices]\n",
    "        Y_test = Y[X_test_indices]\n",
    "        Y_train_mean, Y_train_std = Y_train.mean(0), Y_train.std(0) + 1e-9\n",
    "        #Y_train = (Y_train - Y_train_mean) / Y_train_std\n",
    "        #Y_test = (Y_test - Y_train_mean) / Y_train_std\n",
    "        return X_train, Y_train, X_test, Y_test, Y_train_mean, Y_train_std, X_train_indices, X_test_indices"
   ]
  },
  {
   "cell_type": "code",
   "execution_count": 54,
   "metadata": {},
   "outputs": [],
   "source": [
    "X_train, Y_train, X_test, Y_test, Y_train_mean, Y_train_std, _, _ = create_dataset('credit', True, 0)"
   ]
  },
  {
   "cell_type": "code",
   "execution_count": null,
   "metadata": {},
   "outputs": [],
   "source": []
  }
 ],
 "metadata": {
  "kernelspec": {
   "display_name": "malis",
   "language": "python",
   "name": "python3"
  },
  "language_info": {
   "codemirror_mode": {
    "name": "ipython",
    "version": 3
   },
   "file_extension": ".py",
   "mimetype": "text/x-python",
   "name": "python",
   "nbconvert_exporter": "python",
   "pygments_lexer": "ipython3",
   "version": "3.8.16"
  },
  "orig_nbformat": 4
 },
 "nbformat": 4,
 "nbformat_minor": 2
}
