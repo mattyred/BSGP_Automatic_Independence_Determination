{
 "cells": [
  {
   "attachments": {},
   "cell_type": "markdown",
   "metadata": {},
   "source": [
    "# BSGP model Tutorial"
   ]
  },
  {
   "cell_type": "code",
   "execution_count": 1,
   "metadata": {},
   "outputs": [
    {
     "name": "stderr",
     "output_type": "stream",
     "text": [
      "2023-07-29 11:02:43.249674: I tensorflow/core/platform/cpu_feature_guard.cc:193] This TensorFlow binary is optimized with oneAPI Deep Neural Network Library (oneDNN) to use the following CPU instructions in performance-critical operations:  AVX2 FMA\n",
      "To enable them in other operations, rebuild TensorFlow with the appropriate compiler flags.\n"
     ]
    }
   ],
   "source": [
    "import numpy as np\n",
    "import pandas as pd\n",
    "import torch\n",
    "from torch.utils.data import  TensorDataset\n",
    "import matplotlib.pyplot as plt \n",
    "import seaborn as sns\n",
    "import gpflow\n",
    "import tensorflow_probability as tfp\n",
    "import tensorflow as tf\n",
    "import scipy\n",
    "import results.precise_kernel.process_results as process_results"
   ]
  },
  {
   "cell_type": "code",
   "execution_count": 36,
   "metadata": {},
   "outputs": [],
   "source": [
    "def csv_to_pth(name, csv_path, pth_path, header=None, clf=False):\n",
    "    def dataframe_to_arrays(df):\n",
    "        df_ = df.copy(deep=True)\n",
    "        X = np.atleast_2d(df_[input_cols].to_numpy())\n",
    "        Y = np.atleast_2d(df_[output_cols].to_numpy().reshape(-1,1))\n",
    "        return X, Y\n",
    "    dataframe_raw = pd.read_csv(csv_path, delimiter=',', header=header)\n",
    "    dataframe_raw.head()\n",
    "    input_cols = list(dataframe_raw.columns)[:-1]\n",
    "    output_cols = list(dataframe_raw.columns)[-1]\n",
    "    X, Y = dataframe_to_arrays(dataframe_raw)\n",
    "    Y[Y==-1] = 0 if clf else None\n",
    "    X = (X - np.mean(X, axis=0)) / np.std(X, axis=0)\n",
    "    inputs = torch.tensor(X, dtype=torch.float64)\n",
    "    targets = torch.tensor(Y, dtype=torch.float64)\n",
    "    torch.save([inputs, targets], pth_path + name + '.pth')\n",
    "    return input_cols, output_cols\n",
    "input_cols, output_cols = csv_to_pth(\"credit\", \"data/credit.csv\", \"data/\", clf=True)"
   ]
  },
  {
   "cell_type": "code",
   "execution_count": 21,
   "metadata": {},
   "outputs": [],
   "source": [
    "def create_dataset(dataset, static, fold):\n",
    "    dataset_path = ('./data/' + dataset + '.pth')\n",
    "    dataset = TensorDataset(*torch.load(dataset_path))\n",
    "    X, Y = dataset.tensors\n",
    "    X, Y = X.numpy(), Y.numpy()\n",
    "\n",
    "    if static == False:\n",
    "        Y_mean, Y_std = Y.mean(0), Y.std(0) + 1e-9\n",
    "        #Y = (Y - Y_mean) / Y_std\n",
    "        return X, Y, Y_mean, Y_std\n",
    "    else:\n",
    "        #X_train, X_test, Y_train, Y_test = train_test_split(X, Y, test_size=0.20, random_state=fold)\n",
    "        X_train_indices_boolean = np.random.choice([1, 0], size=X.shape[0], p=[0.8, 0.2])\n",
    "        X_train_indices = np.where(X_train_indices_boolean == 1)[0]\n",
    "        X_test_indices = np.where(X_train_indices_boolean == 0)[0]\n",
    "        X_train = X[X_train_indices]\n",
    "        Y_train = Y[X_train_indices]\n",
    "        X_test = X[X_test_indices]\n",
    "        Y_test = Y[X_test_indices]\n",
    "        Y_train_mean, Y_train_std = Y_train.mean(0), Y_train.std(0) + 1e-9\n",
    "        #Y_train = (Y_train - Y_train_mean) / Y_train_std\n",
    "        #Y_test = (Y_test - Y_train_mean) / Y_train_std\n",
    "        return X_train, Y_train, X_test, Y_test, Y_train_mean, Y_train_std, X_train_indices, X_test_indices"
   ]
  },
  {
   "cell_type": "code",
   "execution_count": 44,
   "metadata": {},
   "outputs": [],
   "source": [
    "X, Y, Y_mean, Y_std = create_dataset('eeg', False, 0)"
   ]
  },
  {
   "cell_type": "code",
   "execution_count": 45,
   "metadata": {},
   "outputs": [
    {
     "data": {
      "text/plain": [
       "(14980, 14)"
      ]
     },
     "execution_count": 45,
     "metadata": {},
     "output_type": "execute_result"
    }
   ],
   "source": [
    "X.shape"
   ]
  },
  {
   "cell_type": "code",
   "execution_count": 15,
   "metadata": {},
   "outputs": [],
   "source": [
    "from sklearn.decomposition import PCA\n",
    "pca = PCA(n_components=12)\n",
    "X_pca_12 = pca.fit_transform(X)\n",
    "inputs = torch.tensor(X_pca_12, dtype=torch.float64)\n",
    "targets = torch.tensor(Y, dtype=torch.float64)\n",
    "torch.save([inputs, targets], 'data/credit_pca_12.pth')"
   ]
  },
  {
   "cell_type": "markdown",
   "metadata": {},
   "source": [
    "## GPFlow Classification with RBF-AID kernel"
   ]
  },
  {
   "cell_type": "code",
   "execution_count": 3,
   "metadata": {},
   "outputs": [],
   "source": [
    "def get_lower_triangular_from_diag(d):\n",
    "    \"\"\"\n",
    "    diag: diagonal of lengthscales parameter [D,]\n",
    "    ---\n",
    "    Σ=inv(Λ) -> diagonal matrix with lengthscales on the diagonal (RBF)\n",
    "    The diagonal of Λ is obtained as 1/(l^2), l is a lengthscale\n",
    "    returns: L, Λ=LLᵀ\n",
    "    \"\"\"\n",
    "    # Define the lengthscales according to the standard RBF kernel\n",
    "    lengthscales = np.full((d,), d**0.5, dtype=np.float64) # lengthscales = tf.constant([d**0.5]*d, dtype=tf.float64)\n",
    "    # Obtain the matrix L such that LLᵀ=Λ and Λ=inv(diag(lengthscales))\n",
    "    Lambda = np.diag(1/(lengthscales**2)) # Lambda = tf.linalg.diag(1/(lengthscales**2))\n",
    "    L = scipy.linalg.cholesky(Lambda, lower=True) # L = Cholesky(inv(diag(lengthscales)))\n",
    "    return tfp.math.fill_triangular_inverse(L, upper=False) \n",
    "class Kernel(object):\n",
    "    \"\"\"\n",
    "    The basic kernel class. Handles input_dim and active dims, and provides a\n",
    "    generic '_slice' function to implement them.\n",
    "    \"\"\"\n",
    "\n",
    "    def __init__(self, input_dim, active_dims=None, name=None):\n",
    "        \"\"\"\n",
    "        input dim is an integer\n",
    "        active dims is either an iterable of integers or None.\n",
    "        Input dim is the number of input dimensions to the kernel. If the\n",
    "        kernel is computed on a matrix X which has more columns than input_dim,\n",
    "        then by default, only the first input_dim columns are used. If\n",
    "        different columns are required, then they may be specified by\n",
    "        active_dims.\n",
    "        If active dims is None, it effectively defaults to range(input_dim),\n",
    "        but we store it as a slice for efficiency.\n",
    "        \"\"\"\n",
    "        self.input_dim = int(input_dim)\n",
    "        if active_dims is None:\n",
    "            self.active_dims = slice(input_dim)\n",
    "        elif isinstance(active_dims, slice):\n",
    "            self.active_dims = active_dims\n",
    "            if active_dims.start is not None and active_dims.stop is not None and active_dims.step is not None:\n",
    "                assert len(range(active_dims.start, active_dims.stop, active_dims.step)) == input_dim\n",
    "        else:\n",
    "            self.active_dims = np.array(active_dims, dtype=np.int32)\n",
    "            assert len(active_dims) == input_dim\n",
    "\n",
    "    def _validate_ard_shape(self, name, value, ARD=None):\n",
    "        \"\"\"\n",
    "        Validates the shape of a potentially ARD hyperparameter\n",
    "        :param name: The name of the parameter (used for error messages)\n",
    "        :param value: A scalar or an array.\n",
    "        :param ARD: None, False, or True. If None, infers ARD from shape of value.\n",
    "        :return: Tuple (value, ARD), where _value_ is a scalar if input_dim==1 or not ARD, array otherwise.\n",
    "            The _ARD_ is False if input_dim==1 or not ARD, True otherwise.\n",
    "        \"\"\"\n",
    "        if ARD is None:\n",
    "            ARD = np.asarray(value).squeeze().shape != ()\n",
    "\n",
    "        if ARD:\n",
    "            # accept float or array:\n",
    "            value = value * np.ones(self.input_dim, dtype=float)\n",
    "\n",
    "        if self.input_dim == 1 or not ARD:\n",
    "            correct_shape = ()\n",
    "        else:\n",
    "            correct_shape = (self.input_dim,)\n",
    "\n",
    "        if np.asarray(value).squeeze().shape != correct_shape:\n",
    "            raise ValueError(\"shape of {} does not match input_dim\".format(name))\n",
    "\n",
    "        return value, ARD\n",
    "\n",
    "    def compute_K(self, X, Z):\n",
    "        return self.K(X, Z)\n",
    "\n",
    "    def compute_K_symm(self, X):\n",
    "        return self.K(X)\n",
    "\n",
    "    def compute_Kdiag(self, X):\n",
    "        return self.Kdiag(X)\n",
    "\n",
    "    def on_separate_dims(self, other_kernel):\n",
    "        \"\"\"\n",
    "        Checks if the dimensions, over which the kernels are specified, overlap.\n",
    "        Returns True if they are defined on different/separate dimensions and False otherwise.\n",
    "        \"\"\"\n",
    "        if isinstance(self.active_dims, slice) or isinstance(other_kernel.active_dims, slice):\n",
    "            # Be very conservative for kernels defined over slices of dimensions\n",
    "            return False\n",
    "\n",
    "        if np.any(self.active_dims.reshape(-1, 1) == other_kernel.active_dims.reshape(1, -1)):\n",
    "            return False\n",
    "\n",
    "        return True\n",
    "\n",
    "    def _slice(self, X, X2):\n",
    "        \"\"\"\n",
    "        Slice the correct dimensions for use in the kernel, as indicated by\n",
    "        `self.active_dims`.\n",
    "        :param X: Input 1 (NxD).\n",
    "        :param X2: Input 2 (MxD), may be None.\n",
    "        :return: Sliced X, X2, (Nxself.input_dim).\n",
    "        \"\"\"\n",
    "        if isinstance(self.active_dims, slice):\n",
    "            X = X[..., self.active_dims]\n",
    "            if X2 is not None:\n",
    "                X2 = X2[..., self.active_dims]\n",
    "        else:\n",
    "            X = tf.gather(X, self.active_dims, axis=-1)\n",
    "            if X2 is not None:\n",
    "                X2 = tf.gather(X2, self.active_dims, axis=-1)\n",
    "\n",
    "        input_dim_shape = tf.shape(X)[-1]\n",
    "        input_dim = tf.convert_to_tensor(self.input_dim, dtype=tf.int32)\n",
    "        with tf.control_dependencies([tf.assert_equal(input_dim_shape, input_dim)]):\n",
    "            X = tf.identity(X)\n",
    "\n",
    "        return X, X2\n",
    "\n",
    "    def _slice_cov(self, cov):\n",
    "        \"\"\"\n",
    "        Slice the correct dimensions for use in the kernel, as indicated by\n",
    "        `self.active_dims` for covariance matrices. This requires slicing the\n",
    "        rows *and* columns. This will also turn flattened diagonal\n",
    "        matrices into a tensor of full diagonal matrices.\n",
    "        :param cov: Tensor of covariance matrices (NxDxD or NxD).\n",
    "        :return: N x self.input_dim x self.input_dim.\n",
    "        \"\"\"\n",
    "        cov = tf.cond(tf.equal(tf.rank(cov), 2), lambda: tf.matrix_diag(cov), lambda: cov)\n",
    "\n",
    "        if isinstance(self.active_dims, slice):\n",
    "            cov = cov[..., self.active_dims, self.active_dims]\n",
    "        else:\n",
    "            cov_shape = tf.shape(cov)\n",
    "            covr = tf.reshape(cov, [-1, cov_shape[-1], cov_shape[-1]])\n",
    "            gather1 = tf.gather(tf.transpose(covr, [2, 1, 0]), self.active_dims)\n",
    "            gather2 = tf.gather(tf.transpose(gather1, [1, 0, 2]), self.active_dims)\n",
    "            cov = tf.reshape(tf.transpose(gather2, [2, 0, 1]),\n",
    "                             tf.concat([cov_shape[:-2], [len(self.active_dims), len(self.active_dims)]], 0))\n",
    "        return cov\n",
    "\n",
    "class FullPrecisionRBF(gpflow.kernels.Kernel):  \n",
    "\n",
    "    def __init__(self, **kwargs):\n",
    "        randomized = kwargs[\"randomized\"]\n",
    "        self.d = kwargs[\"d\"]\n",
    "        self.prior_precision_info = kwargs[\"prior_precision_info\"]\n",
    "        self._v = kwargs[\"variance\"]\n",
    "        if not randomized:\n",
    "            L = get_lower_triangular_from_diag(self.d)\n",
    "        super().__init__()\n",
    "        self.L = tf.Variable(L, name='L', dtype=tf.float64)\n",
    "        self.logvariance = tf.Variable(np.log(self._v), dtype=tf.float64, name='log_variance', trainable=False)\n",
    "        self.variance = tf.exp(self.logvariance)\n",
    "\n",
    "    def K(self, X, X2=None):\n",
    "        \"\"\"\n",
    "            X: matrix NxD\n",
    "            X2: matrix NxD\n",
    "            ---\n",
    "            Returns Kernel matrix as a 2D tensor\n",
    "        \"\"\"\n",
    "        if X2 is None:\n",
    "            X2 = X\n",
    "        N1 = tf.squeeze(tf.shape(X)[:-1])\n",
    "        N2 = tf.squeeze(tf.shape(X2)[:-1])\n",
    "        Lambda = self.precision() # recover UᵀU\n",
    "\n",
    "        # compute z, z2\n",
    "        z = self._z(X, Lambda) # N1x1 array\n",
    "        z2 = self._z(X2, Lambda) # N2x1 array\n",
    "        # compute X(X2Λ)ᵀ\n",
    "        X2Lambda = tf.linalg.matmul(X2, Lambda)\n",
    "        XX2LambdaT = tf.linalg.matmul(X, tf.transpose(X2Lambda)) # N1xN2 matrix\n",
    "        # compute z1ᵀ \n",
    "        ones_N2 = tf.ones(shape=(N2,1), dtype=tf.float64) # N2x1 array\n",
    "        zcol = tf.linalg.matmul(z, tf.transpose(ones_N2)) # N1xN2 matrix\n",
    "        # compute 1z2ᵀ \n",
    "        ones_N1 = tf.ones(shape=(N1,1), dtype=tf.float64) # N1x1 array\n",
    "        zrow = tf.linalg.matmul(ones_N1, tf.transpose(z2)) # N1xN2 matrix\n",
    "\n",
    "        exp_arg = zcol - 2*XX2LambdaT + zrow\n",
    "        Kxx = tf.math.exp(-0.5 * exp_arg)\n",
    "        return self.variance * Kxx\n",
    "    \n",
    "    def K_diag(self, X):\n",
    "        return tf.fill(tf.shape(X)[:-1], tf.squeeze(self.variance))\n",
    "    \n",
    "    def _z(self, X, Lambda):\n",
    "        XLambda = tf.linalg.matmul(X, Lambda)\n",
    "        XLambdaX = tf.math.multiply(XLambda, X)\n",
    "        return tf.math.reduce_sum(XLambdaX, axis=1, keepdims=True)\n",
    "    \n",
    "    def precision(self):\n",
    "        L = tfp.math.fill_triangular(self.L, upper=False) # recover L matrix from L array\n",
    "        Lambda = tf.linalg.matmul(L, tf.transpose(L))\n",
    "        return Lambda\n",
    "    \n",
    "    def precision_off_diagonals(self):\n",
    "        diag_L = tf.linalg.tensor_diag_part(self.precision())\n",
    "        return self.precision() - tf.linalg.diag(diag_L)\n",
    "    \n",
    "    def precision_off_diagonals_prot(self):\n",
    "        return tf.boolean_mask(self.precision(), ~tf.eye(self.d, self.d, dtype=tf.bool))\n",
    "    \n",
    "    def __str__(self):\n",
    "        Lambda = self.precision()\n",
    "        return 'Variance: {}\\nLambda: {}'.format(self.variance, Lambda)\n",
    "    def __str__(self):\n",
    "        if self.prior_precision_info['type'] is not None:\n",
    "            prior_precision_info_str = ' Prior precision type = %s'%(self.prior_precision_info['type'])\n",
    "            if self.prior_precision_info['type'] == 'laplace' or self.prior_precision_info['type'] == 'laplace-diagnormal':\n",
    "                prior_precision_info_str +=  ' (b = %.2f)'%self.prior_precision_info['hparams']\n",
    "        else:\n",
    "            prior_precision_info_str = ' Prior precision type = None' \n",
    "        str = [\n",
    "            '======= Kernel: FullPrecisionRBF (param: LLᵀ)',\n",
    "            # ' Input dim = %d' % self.input_dim,\n",
    "            ' Variance = %.3f' % self._v,\n",
    "            prior_precision_info_str\n",
    "        ]\n",
    "        return '\\n'.join(str)"
   ]
  },
  {
   "cell_type": "code",
   "execution_count": 16,
   "metadata": {},
   "outputs": [
    {
     "data": {
      "text/html": [
       "<table>\n",
       "<thead>\n",
       "<tr><th>name                    </th><th>class           </th><th>transform     </th><th>prior  </th><th>trainable  </th><th>shape        </th><th>dtype  </th><th>value                                   </th></tr>\n",
       "</thead>\n",
       "<tbody>\n",
       "<tr><td>SVGP.kernel.L           </td><td>ResourceVariable</td><td>              </td><td>       </td><td>True       </td><td>(300,)       </td><td>float64</td><td>[0.0000e+00, -1.4000e-04, -1.0000e-05...</td></tr>\n",
       "<tr><td>SVGP.kernel.logvariance </td><td>ResourceVariable</td><td>              </td><td>       </td><td>False      </td><td>()           </td><td>float64</td><td>-2.30259                                </td></tr>\n",
       "<tr><td>SVGP.inducing_variable.Z</td><td>Parameter       </td><td>Identity      </td><td>       </td><td>True       </td><td>(100, 24)    </td><td>float64</td><td>[[-0.85432, -1.4196, 1.708...           </td></tr>\n",
       "<tr><td>SVGP.q_mu               </td><td>Parameter       </td><td>Identity      </td><td>       </td><td>True       </td><td>(100, 1)     </td><td>float64</td><td>[[-4.59911e+00...                       </td></tr>\n",
       "<tr><td>SVGP.q_sqrt             </td><td>Parameter       </td><td>FillTriangular</td><td>       </td><td>True       </td><td>(1, 100, 100)</td><td>float64</td><td>[[[7.1178e-01, 0.0000e+00, 0.0000e+00...</td></tr>\n",
       "</tbody>\n",
       "</table>"
      ],
      "text/plain": [
       "<IPython.core.display.HTML object>"
      ]
     },
     "metadata": {},
     "output_type": "display_data"
    }
   ],
   "source": [
    "prior_precision_info = {'type': None, 'hparams': 0.01}\n",
    "kernel = FullPrecisionRBF(variance=0.1, randomized=False, d=24, prior_precision_info=prior_precision_info) \n",
    "M = 100\n",
    "Z = X_train[:M, :].copy()\n",
    "N = X_train.shape[0]\n",
    "model = gpflow.models.SVGP(\n",
    "    kernel=kernel,\n",
    "    likelihood=gpflow.likelihoods.Bernoulli(),\n",
    "    inducing_variable=Z,\n",
    "    num_data=N\n",
    ")\n",
    "opt = gpflow.optimizers.Scipy()\n",
    "opt.minimize(model.training_loss_closure((X_train, Y_train)), model.trainable_variables)\n",
    "gpflow.utilities.print_summary(model, \"notebook\")"
   ]
  },
  {
   "cell_type": "code",
   "execution_count": 35,
   "metadata": {},
   "outputs": [],
   "source": [
    "Fsamples = model.predict_f_samples(X_test).numpy().squeeze().T\n",
    "Psamples = model.likelihood.invlink(Fsamples)\n",
    "Y_pred = np.array([int(i) for i in Psamples >= 0.5]).reshape(-1,1)\n",
    "np.sum(Y_pred  ==  Y_test) / Y_pred.shape[0]"
   ]
  },
  {
   "cell_type": "markdown",
   "metadata": {},
   "source": [
    "## BSGP-AID classification "
   ]
  },
  {
   "cell_type": "code",
   "execution_count": 42,
   "metadata": {},
   "outputs": [],
   "source": [
    "processed_results = process_results.process_results_onefold(filepath='results/run-0003/wilt_AID_results.json', precise_kernel=1, d=5, regression=False)"
   ]
  },
  {
   "cell_type": "code",
   "execution_count": 43,
   "metadata": {},
   "outputs": [
    {
     "data": {
      "image/png": "[encoded data removed]",
      "text/plain": [
       "<Figure size 1200x1200 with 2 Axes>"
      ]
     },
     "metadata": {},
     "output_type": "display_data"
    }
   ],
   "source": [
    "fig, ax = plt.subplots(1, 1, figsize=(12, 12))\n",
    "max = np.max(np.abs(processed_results['precisions_merged_mean']))\n",
    "sns.heatmap(np.abs(processed_results['precisions_merged_mean']), annot=True, square=True, cmap='Blues', vmax=max, vmin=0, center=max/2., linewidth=.3, ax=ax)\n",
    "plt.show()"
   ]
  }
 ],
 "metadata": {
  "kernelspec": {
   "display_name": "malis",
   "language": "python",
   "name": "python3"
  },
  "language_info": {
   "codemirror_mode": {
    "name": "ipython",
    "version": 3
   },
   "file_extension": ".py",
   "mimetype": "text/x-python",
   "name": "python",
   "nbconvert_exporter": "python",
   "pygments_lexer": "ipython3",
   "version": "3.8.16"
  },
  "orig_nbformat": 4
 },
 "nbformat": 4,
 "nbformat_minor": 2
}
