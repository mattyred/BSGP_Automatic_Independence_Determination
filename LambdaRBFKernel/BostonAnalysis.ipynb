{
 "cells": [
  {
   "cell_type": "code",
   "execution_count": 15,
   "metadata": {},
   "outputs": [
    {
     "name": "stdout",
     "output_type": "stream",
     "text": [
      "tensorflow  2.11.0\n",
      "numpy  1.22.4\n",
      "gpflow  2.7.0\n",
      "pandas  1.5.3\n"
     ]
    }
   ],
   "source": [
    "import matplotlib.pyplot as plt # 3.6\n",
    "import numpy as np # 1.22.4\n",
    "import tensorflow as tf # 2.11.0\n",
    "import gpflow # 2.7.0\n",
    "import pandas as pd\n",
    "import tensorflow_probability as tfp\n",
    "from tensorflow import keras\n",
    "from tensorflow.python.ops.numpy_ops import np_config\n",
    "from LambdaRBF import LambdaRBF\n",
    "np_config.enable_numpy_behavior()\n",
    "plt.rcParams[\"figure.figsize\"] = (12, 6)\n",
    "plt.style.use(\"ggplot\")\n",
    "print('tensorflow ', tf.__version__) \n",
    "print('numpy ', np.__version__) \n",
    "print('gpflow ', gpflow.__version__) \n",
    "print('pandas ', pd.__version__) "
   ]
  },
  {
   "cell_type": "code",
   "execution_count": 16,
   "metadata": {},
   "outputs": [],
   "source": [
    "def visualize_matrix(matrix, cmap='viridis'):\n",
    "    \"\"\"\n",
    "    matrix: Matrix to be visualized with a color mapping\n",
    "    cmap: type of mapping\n",
    "    ---\n",
    "    It displays a matrix represented with a color scheme\n",
    "    \"\"\"\n",
    "    D = matrix.shape[0]\n",
    "    plt.imshow(matrix, cmap=cmap, extent=[0, D, 0, D], interpolation='nearest')\n",
    "    plt.xticks(np.arange(D) + 0.5, np.arange(D))\n",
    "    plt.yticks(np.arange(D) + 0.5, np.arange(D))\n",
    "    plt.colorbar()\n",
    "    plt.show()"
   ]
  },
  {
   "cell_type": "code",
   "execution_count": 17,
   "metadata": {},
   "outputs": [],
   "source": [
    "(X_train, Y_train), (X_test, Y_test) = keras.datasets.boston_housing.load_data()\n",
    "Y_train = np.atleast_2d(Y_train).T\n",
    "Y_test = np.atleast_2d(Y_test).T\n",
    "Y_train_mean, Y_train_std = Y_train.mean(0), Y_train.std(0) + 1e-9\n",
    "Y_train = (Y_train - Y_train_mean) / Y_train_std\n",
    "Y_test = (Y_test - Y_train_mean) / Y_train_std"
   ]
  },
  {
   "cell_type": "code",
   "execution_count": 7,
   "metadata": {},
   "outputs": [
    {
     "data": {
      "text/plain": [
       "<tf.Tensor: shape=(13, 13), dtype=float32, numpy=\n",
       "array([[1.4142135, 0.       , 0.       , 0.       , 0.       , 0.       ,\n",
       "        0.       , 0.       , 0.       , 0.       , 0.       , 0.       ,\n",
       "        0.       ],\n",
       "       [0.       , 1.4142135, 0.       , 0.       , 0.       , 0.       ,\n",
       "        0.       , 0.       , 0.       , 0.       , 0.       , 0.       ,\n",
       "        0.       ],\n",
       "       [0.       , 0.       , 1.4142135, 0.       , 0.       , 0.       ,\n",
       "        0.       , 0.       , 0.       , 0.       , 0.       , 0.       ,\n",
       "        0.       ],\n",
       "       [0.       , 0.       , 0.       , 1.4142135, 0.       , 0.       ,\n",
       "        0.       , 0.       , 0.       , 0.       , 0.       , 0.       ,\n",
       "        0.       ],\n",
       "       [0.       , 0.       , 0.       , 0.       , 1.4142135, 0.       ,\n",
       "        0.       , 0.       , 0.       , 0.       , 0.       , 0.       ,\n",
       "        0.       ],\n",
       "       [0.       , 0.       , 0.       , 0.       , 0.       , 1.4142135,\n",
       "        0.       , 0.       , 0.       , 0.       , 0.       , 0.       ,\n",
       "        0.       ],\n",
       "       [0.       , 0.       , 0.       , 0.       , 0.       , 0.       ,\n",
       "        1.4142135, 0.       , 0.       , 0.       , 0.       , 0.       ,\n",
       "        0.       ],\n",
       "       [0.       , 0.       , 0.       , 0.       , 0.       , 0.       ,\n",
       "        0.       , 1.4142135, 0.       , 0.       , 0.       , 0.       ,\n",
       "        0.       ],\n",
       "       [0.       , 0.       , 0.       , 0.       , 0.       , 0.       ,\n",
       "        0.       , 0.       , 1.4142135, 0.       , 0.       , 0.       ,\n",
       "        0.       ],\n",
       "       [0.       , 0.       , 0.       , 0.       , 0.       , 0.       ,\n",
       "        0.       , 0.       , 0.       , 1.4142135, 0.       , 0.       ,\n",
       "        0.       ],\n",
       "       [0.       , 0.       , 0.       , 0.       , 0.       , 0.       ,\n",
       "        0.       , 0.       , 0.       , 0.       , 1.4142135, 0.       ,\n",
       "        0.       ],\n",
       "       [0.       , 0.       , 0.       , 0.       , 0.       , 0.       ,\n",
       "        0.       , 0.       , 0.       , 0.       , 0.       , 1.4142135,\n",
       "        0.       ],\n",
       "       [0.       , 0.       , 0.       , 0.       , 0.       , 0.       ,\n",
       "        0.       , 0.       , 0.       , 0.       , 0.       , 0.       ,\n",
       "        1.4142135]], dtype=float32)>"
      ]
     },
     "execution_count": 7,
     "metadata": {},
     "output_type": "execute_result"
    }
   ],
   "source": [
    "def get_lower_triangular_diag(diag):\n",
    "    Lambda = tf.linalg.diag(diag)\n",
    "    L = tf.linalg.cholesky(Lambda)\n",
    "    return L\n",
    "\n",
    "diagonal = tf.constant([2]*13, dtype=tf.float32)\n",
    "Lambda_L = get_lower_triangular_diag(diagonal)\n",
    "Lambda_L\n",
    "#tf.linalg.matmul(Lambda_L, tf.transpose(Lambda_L))"
   ]
  },
  {
   "cell_type": "code",
   "execution_count": 40,
   "metadata": {},
   "outputs": [
    {
     "data": {
      "text/html": [
       "<table>\n",
       "<thead>\n",
       "<tr><th>name                   </th><th>class    </th><th>transform       </th><th>prior  </th><th>trainable  </th><th>shape   </th><th>dtype  </th><th>value          </th></tr>\n",
       "</thead>\n",
       "<tbody>\n",
       "<tr><td>GPR.kernel.Lambda_L    </td><td>Parameter</td><td>FillTriangular  </td><td>Normal </td><td>True       </td><td>(13, 13)</td><td>float64</td><td>[[1., 0., 0....</td></tr>\n",
       "<tr><td>GPR.kernel.variance    </td><td>Parameter</td><td>Softplus        </td><td>Normal </td><td>True       </td><td>()      </td><td>float64</td><td>1.0            </td></tr>\n",
       "<tr><td>GPR.likelihood.variance</td><td>Parameter</td><td>Softplus + Shift</td><td>       </td><td>True       </td><td>()      </td><td>float64</td><td>1.0            </td></tr>\n",
       "</tbody>\n",
       "</table>"
      ],
      "text/plain": [
       "<IPython.core.display.HTML object>"
      ]
     },
     "metadata": {},
     "output_type": "display_data"
    },
    {
     "name": "stdout",
     "output_type": "stream",
     "text": [
      "Intial value of kernel variance:  <Parameter: name=KernelAmplitude, dtype=float64, shape=[], fn=\"softplus\", numpy=1.0>\n",
      "Initial value of Lambda:  tf.Tensor(\n",
      "[[1. 0. 0. 0. 0. 0. 0. 0. 0. 0. 0. 0. 0.]\n",
      " [0. 1. 0. 0. 0. 0. 0. 0. 0. 0. 0. 0. 0.]\n",
      " [0. 0. 1. 0. 0. 0. 0. 0. 0. 0. 0. 0. 0.]\n",
      " [0. 0. 0. 1. 0. 0. 0. 0. 0. 0. 0. 0. 0.]\n",
      " [0. 0. 0. 0. 1. 0. 0. 0. 0. 0. 0. 0. 0.]\n",
      " [0. 0. 0. 0. 0. 1. 0. 0. 0. 0. 0. 0. 0.]\n",
      " [0. 0. 0. 0. 0. 0. 1. 0. 0. 0. 0. 0. 0.]\n",
      " [0. 0. 0. 0. 0. 0. 0. 1. 0. 0. 0. 0. 0.]\n",
      " [0. 0. 0. 0. 0. 0. 0. 0. 1. 0. 0. 0. 0.]\n",
      " [0. 0. 0. 0. 0. 0. 0. 0. 0. 1. 0. 0. 0.]\n",
      " [0. 0. 0. 0. 0. 0. 0. 0. 0. 0. 1. 0. 0.]\n",
      " [0. 0. 0. 0. 0. 0. 0. 0. 0. 0. 0. 1. 0.]\n",
      " [0. 0. 0. 0. 0. 0. 0. 0. 0. 0. 0. 0. 1.]], shape=(13, 13), dtype=float64)\n",
      "Initial LML:  tf.Tensor(-611.6429683950004, shape=(), dtype=float64)\n",
      "-------------------------------\n",
      "Optimal value of kernel variance:  <Parameter: name=KernelAmplitude, dtype=float64, shape=[], fn=\"softplus\", numpy=0.9748285246136018>\n",
      "Final value of Lambda:  tf.Tensor(\n",
      "[[ 0.59228541  0.76979001  0.7697896   0.7185233   0.77006049  0.75725403\n",
      "   0.85036304  0.75472297  0.76979085  0.76979001  0.76978925  0.68810033\n",
      "   0.77683367]\n",
      " [ 0.76979001  2.00049173  2.00073658  1.862519    1.99890716  1.94246569\n",
      "   2.01002775  2.00381975  2.00073958  2.00073757  2.00073575  1.84059643\n",
      "   2.03392789]\n",
      " [ 0.7697896   2.00073658  3.0009806   2.79140428  2.99721498  2.90096678\n",
      "   2.91506448  3.02698033  3.00123081  3.00122788  3.00122521  2.78710405\n",
      "   3.05845979]\n",
      " [ 0.7185233   1.862519    2.79140428  3.45825395  3.71442973  3.58816856\n",
      "   3.55206755  3.76491287  3.72018282  3.72018011  3.72017764  3.47082804\n",
      "   3.79582624]\n",
      " [ 0.77006049  1.99890716  2.99721498  3.71442973  4.98690702  4.95629674\n",
      "   4.51438956  5.05354659  4.9946793   4.99467439  4.99466993  4.663108\n",
      "   5.12336355]\n",
      " [ 0.75725403  1.94246569  2.90096678  3.58816856  4.95629674  6.16385182\n",
      "   5.23713856  6.13989404  6.06973409  6.06972686  6.06972031  5.66780139\n",
      "   6.2516175 ]\n",
      " [ 0.85036304  2.01002775  2.91506448  3.55206755  4.51438956  5.23713856\n",
      "   4.67214934  5.37989207  5.33457951  5.33457366  5.33456835  4.9673144\n",
      "   5.4705118 ]\n",
      " [ 0.75472297  2.00381975  3.02698033  3.76491287  5.05354659  6.13989404\n",
      "   5.37989207  7.70179226  7.83678929  7.83677951  7.83677066  7.0320778\n",
      "   7.71710218]\n",
      " [ 0.76979085  2.00073958  3.00123081  3.72018282  4.9946793   6.06973409\n",
      "   5.33457951  7.83678929  9.00395761  9.00419159  9.00418086  7.82847797\n",
      "   8.54944886]\n",
      " [ 0.76979001  2.00073757  3.00122788  3.72018011  4.99467439  6.06972686\n",
      "   5.33457366  7.83677951  9.00419159 10.00442564 10.00465735  8.51726904\n",
      "   9.26590872]\n",
      " [ 0.76978925  2.00073575  3.00122521  3.72017764  4.99466993  6.06972031\n",
      "   5.33456835  7.83677066  9.00418086 10.00465735 11.0048823   9.20605638\n",
      "   9.98236476]\n",
      " [ 0.68810033  1.84059643  2.78710405  3.47082804  4.663108    5.66780139\n",
      "   4.9673144   7.0320778   7.82847797  8.51726904  9.20605638  8.33822968\n",
      "   9.04260168]\n",
      " [ 0.77683367  2.03392789  3.05845979  3.79582624  5.12336355  6.2516175\n",
      "   5.4705118   7.71710218  8.54944886  9.26590872  9.98236476  9.04260168\n",
      "   9.81462533]], shape=(13, 13), dtype=float64)\n",
      "Final LML:  tf.Tensor(-565.7055836066085, shape=(), dtype=float64)\n"
     ]
    },
    {
     "data": {
      "image/png": "[encoded data removed]",
      "text/plain": [
       "<Figure size 1200x600 with 2 Axes>"
      ]
     },
     "metadata": {},
     "output_type": "display_data"
    }
   ],
   "source": [
    "#Lambda = tf.constant([[1/4, 0],[0, 1/4]], dtype=tf.float64)#(1/4)*tf.eye(2, dtype=tf.float64)\n",
    "D = 13\n",
    "triangular_size = gpflow.utilities.bijectors.triangular_size(D)\n",
    "#l = tf.zeros([triangular_size], dtype=tf.float64)\n",
    "#l = tf.constant([0.5,0.,0.5], dtype=tf.float64)\n",
    "#Lambda_L = tfp.math.fill_triangular(l)\n",
    "diagonal = tf.constant([1]*D, dtype=tf.float32)\n",
    "Lambda_L = get_lower_triangular_diag(diagonal)\n",
    "LRBF = LambdaRBF(Lambda_L, 1.0)\n",
    "LRBF.Lambda_L.prior = tfp.distributions.Normal(loc=gpflow.utilities.to_default_float(1.), scale=gpflow.utilities.to_default_float(1.))\n",
    "LRBF.variance.prior = tfp.distributions.Normal(loc=gpflow.utilities.to_default_float(0.05), scale=gpflow.utilities.to_default_float(1.))\n",
    "model = gpflow.models.GPR(\n",
    "    (X_train, Y_train),\n",
    "    kernel=LRBF\n",
    ",\n",
    ")\n",
    "gpflow.utilities.print_summary(model, fmt=\"notebook\")\n",
    "print('Intial value of kernel variance: ', LRBF.variance)\n",
    "print('Initial value of Lambda: ', tf.linalg.matmul(LRBF.Lambda_L, tf.transpose(LRBF.Lambda_L)))\n",
    "print('Initial LML: ',model.log_marginal_likelihood())\n",
    "opt = gpflow.optimizers.Scipy()\n",
    "opt.minimize(model.training_loss, model.trainable_variables)\n",
    "Lambda_full = tf.linalg.matmul(LRBF.Lambda_L, tf.transpose(LRBF.Lambda_L))\n",
    "print('-------------------------------')\n",
    "print('Optimal value of kernel variance: ', LRBF.variance)\n",
    "print('Final value of Lambda: ', Lambda_full)\n",
    "print('Final LML: ',model.log_marginal_likelihood())\n",
    "visualize_matrix(Lambda_full)"
   ]
  },
  {
   "cell_type": "code",
   "execution_count": 29,
   "metadata": {},
   "outputs": [
    {
     "name": "stdout",
     "output_type": "stream",
     "text": [
      "Final value of Lambda:  tf.Tensor(\n",
      "[[ 0.59228541  0.76979001  0.7697896   0.7185233   0.77006049  0.75725403\n",
      "   0.85036304  0.75472297  0.76979085  0.76979001  0.76978925  0.68810033\n",
      "   0.77683367]\n",
      " [ 0.76979001  2.00049173  2.00073658  1.862519    1.99890716  1.94246569\n",
      "   2.01002775  2.00381975  2.00073958  2.00073757  2.00073575  1.84059643\n",
      "   2.03392789]\n",
      " [ 0.7697896   2.00073658  3.0009806   2.79140428  2.99721498  2.90096678\n",
      "   2.91506448  3.02698033  3.00123081  3.00122788  3.00122521  2.78710405\n",
      "   3.05845979]\n",
      " [ 0.7185233   1.862519    2.79140428  3.45825395  3.71442973  3.58816856\n",
      "   3.55206755  3.76491287  3.72018282  3.72018011  3.72017764  3.47082804\n",
      "   3.79582624]\n",
      " [ 0.77006049  1.99890716  2.99721498  3.71442973  4.98690702  4.95629674\n",
      "   4.51438956  5.05354659  4.9946793   4.99467439  4.99466993  4.663108\n",
      "   5.12336355]\n",
      " [ 0.75725403  1.94246569  2.90096678  3.58816856  4.95629674  6.16385182\n",
      "   5.23713856  6.13989404  6.06973409  6.06972686  6.06972031  5.66780139\n",
      "   6.2516175 ]\n",
      " [ 0.85036304  2.01002775  2.91506448  3.55206755  4.51438956  5.23713856\n",
      "   4.67214934  5.37989207  5.33457951  5.33457366  5.33456835  4.9673144\n",
      "   5.4705118 ]\n",
      " [ 0.75472297  2.00381975  3.02698033  3.76491287  5.05354659  6.13989404\n",
      "   5.37989207  7.70179226  7.83678929  7.83677951  7.83677066  7.0320778\n",
      "   7.71710218]\n",
      " [ 0.76979085  2.00073958  3.00123081  3.72018282  4.9946793   6.06973409\n",
      "   5.33457951  7.83678929  9.00395761  9.00419159  9.00418086  7.82847797\n",
      "   8.54944886]\n",
      " [ 0.76979001  2.00073757  3.00122788  3.72018011  4.99467439  6.06972686\n",
      "   5.33457366  7.83677951  9.00419159 10.00442564 10.00465735  8.51726904\n",
      "   9.26590872]\n",
      " [ 0.76978925  2.00073575  3.00122521  3.72017764  4.99466993  6.06972031\n",
      "   5.33456835  7.83677066  9.00418086 10.00465735 11.0048823   9.20605638\n",
      "   9.98236476]\n",
      " [ 0.68810033  1.84059643  2.78710405  3.47082804  4.663108    5.66780139\n",
      "   4.9673144   7.0320778   7.82847797  8.51726904  9.20605638  8.33822968\n",
      "   9.04260168]\n",
      " [ 0.77683367  2.03392789  3.05845979  3.79582624  5.12336355  6.2516175\n",
      "   5.4705118   7.71710218  8.54944886  9.26590872  9.98236476  9.04260168\n",
      "   9.81462533]], shape=(13, 13), dtype=float64)\n"
     ]
    }
   ],
   "source": [
    "print('Final value of Lambda: ', Lambda_full)\n",
    "#np.savetxt('test.out', tf.linalg.matmul(LRBF.Lambda_L, tf.transpose(LRBF.Lambda_L)).numpy(), fmt='%1.4e')"
   ]
  },
  {
   "cell_type": "code",
   "execution_count": 47,
   "metadata": {},
   "outputs": [
    {
     "data": {
      "text/html": [
       "<table>\n",
       "<thead>\n",
       "<tr><th>name                   </th><th>class    </th><th>transform       </th><th>prior  </th><th>trainable  </th><th>shape  </th><th>dtype  </th><th>value         </th></tr>\n",
       "</thead>\n",
       "<tbody>\n",
       "<tr><td>GPR.kernel.variance    </td><td>Parameter</td><td>Softplus        </td><td>Normal </td><td>True       </td><td>()     </td><td>float64</td><td>1.0           </td></tr>\n",
       "<tr><td>GPR.kernel.lengthscales</td><td>Parameter</td><td>Softplus        </td><td>Normal </td><td>True       </td><td>(13,)  </td><td>float64</td><td>[1., 1., 1....</td></tr>\n",
       "<tr><td>GPR.likelihood.variance</td><td>Parameter</td><td>Softplus + Shift</td><td>       </td><td>True       </td><td>()     </td><td>float64</td><td>1.0           </td></tr>\n",
       "</tbody>\n",
       "</table>"
      ],
      "text/plain": [
       "<IPython.core.display.HTML object>"
      ]
     },
     "metadata": {},
     "output_type": "display_data"
    },
    {
     "name": "stdout",
     "output_type": "stream",
     "text": [
      "Intial value of kernel variance:  <Parameter: name=softplus, dtype=float64, shape=[], fn=\"softplus\", numpy=1.0>\n",
      "Intial value of kernel lengthsclaes:  <Parameter: name=softplus, dtype=float64, shape=[13], fn=\"softplus\", numpy=array([1., 1., 1., 1., 1., 1., 1., 1., 1., 1., 1., 1., 1.])>\n",
      "Initial LML:  tf.Tensor(-611.6429683950051, shape=(), dtype=float64)\n",
      "-------------------------------\n",
      "Optimal value of kernel variance:  <Parameter: name=softplus, dtype=float64, shape=[], fn=\"softplus\", numpy=0.7690897773025583>\n",
      "Optimal value of kernel lengthsclaes:  <Parameter: name=softplus, dtype=float64, shape=[13], fn=\"softplus\", numpy=\n",
      "array([3.84694529, 1.00000001, 0.99992837, 2.04552305, 0.31642616,\n",
      "       1.94133006, 6.37574645, 2.23834704, 0.99990645, 1.00028937,\n",
      "       1.00024149, 6.45511826, 5.09843092])>\n",
      "Final LML:  tf.Tensor(-483.3437220394869, shape=(), dtype=float64)\n"
     ]
    },
    {
     "data": {
      "image/png": "[encoded data removed]",
      "text/plain": [
       "<Figure size 1200x600 with 2 Axes>"
      ]
     },
     "metadata": {},
     "output_type": "display_data"
    }
   ],
   "source": [
    "D = 13\n",
    "k = gpflow.kernels.SquaredExponential(variance=1, lengthscales=1*np.ones(D))\n",
    "k.lengthscales.prior = tfp.distributions.Normal(loc=gpflow.utilities.to_default_float(1.), \n",
    "                                                   scale=gpflow.utilities.to_default_float(1.))\n",
    "k.variance.prior = tfp.distributions.Normal(loc=gpflow.utilities.to_default_float(0.05), \n",
    "                                               scale=gpflow.utilities.to_default_float(1.))\n",
    "model = gpflow.models.GPR(\n",
    "    (X_train, Y_train),\n",
    "    kernel=k,\n",
    ")\n",
    "gpflow.utilities.print_summary(model, fmt=\"notebook\")\n",
    "print('Intial value of kernel variance: ', k.variance)\n",
    "print('Intial value of kernel lengthsclaes: ', k.lengthscales)\n",
    "print('Initial LML: ',model.log_marginal_likelihood())\n",
    "opt = gpflow.optimizers.Scipy()\n",
    "opt.minimize(model.training_loss, model.trainable_variables)\n",
    "Lambda_diag = tf.linalg.inv(tf.linalg.diag(k.lengthscales))\n",
    "print('-------------------------------')\n",
    "print('Optimal value of kernel variance: ', k.variance)\n",
    "print('Optimal value of kernel lengthsclaes: ', k.lengthscales)\n",
    "print('Final LML: ',model.log_marginal_likelihood())\n",
    "visualize_matrix(Lambda_diag)"
   ]
  },
  {
   "cell_type": "code",
   "execution_count": 26,
   "metadata": {},
   "outputs": [
    {
     "data": {
      "text/plain": [
       "<tf.Tensor: shape=(13,), dtype=float64, numpy=\n",
       "array([0.25995624, 0.99987937, 0.99994313, 0.48889109, 3.16186519,\n",
       "       0.51519453, 0.15684942, 0.44673208, 0.99995722, 0.99967178,\n",
       "       0.999685  , 0.15491704, 0.19614901])>"
      ]
     },
     "execution_count": 26,
     "metadata": {},
     "output_type": "execute_result"
    }
   ],
   "source": [
    "tf.linalg.diag_part(Lambda_diag)"
   ]
  },
  {
   "cell_type": "code",
   "execution_count": 31,
   "metadata": {},
   "outputs": [
    {
     "data": {
      "text/plain": [
       "<tf.Tensor: shape=(13,), dtype=float64, numpy=\n",
       "array([ 0.59228541,  2.00049173,  3.0009806 ,  3.45825395,  4.98690702,\n",
       "        6.16385182,  4.67214934,  7.70179226,  9.00395761, 10.00442564,\n",
       "       11.0048823 ,  8.33822968,  9.81462533])>"
      ]
     },
     "execution_count": 31,
     "metadata": {},
     "output_type": "execute_result"
    }
   ],
   "source": [
    "tf.linalg.diag_part(Lambda_full)"
   ]
  },
  {
   "cell_type": "code",
   "execution_count": null,
   "metadata": {},
   "outputs": [],
   "source": []
  }
 ],
 "metadata": {
  "kernelspec": {
   "display_name": "sproj",
   "language": "python",
   "name": "python3"
  },
  "language_info": {
   "codemirror_mode": {
    "name": "ipython",
    "version": 3
   },
   "file_extension": ".py",
   "mimetype": "text/x-python",
   "name": "python",
   "nbconvert_exporter": "python",
   "pygments_lexer": "ipython3",
   "version": "3.8.16"
  },
  "orig_nbformat": 4
 },
 "nbformat": 4,
 "nbformat_minor": 2
}
