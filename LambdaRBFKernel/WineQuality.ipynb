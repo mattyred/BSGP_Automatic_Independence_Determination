{
 "cells": [
  {
   "attachments": {},
   "cell_type": "markdown",
   "metadata": {},
   "source": [
    "# Wine Quality Dataset - Precise GP"
   ]
  },
  {
   "cell_type": "code",
   "execution_count": 15,
   "metadata": {},
   "outputs": [
    {
     "name": "stdout",
     "output_type": "stream",
     "text": [
      "tensorflow  2.11.0\n",
      "pytorch  1.13.1\n",
      "numpy  1.22.4\n",
      "gpflow  2.7.0\n",
      "pandas  1.5.3\n"
     ]
    }
   ],
   "source": [
    "import matplotlib.pyplot as plt # 3.6\n",
    "import numpy as np # 1.22.4\n",
    "import tensorflow as tf # 2.11.0\n",
    "import gpflow # 2.7.0\n",
    "import pandas as pd\n",
    "import tensorflow_probability as tfp\n",
    "from tensorflow import keras\n",
    "import seaborn as sns\n",
    "import torch\n",
    "from tensorflow.python.ops.numpy_ops import np_config\n",
    "from LambdaRBF import LambdaRBF\n",
    "from utils import *\n",
    "import pandas as pd\n",
    "import os\n",
    "np_config.enable_numpy_behavior()\n",
    "plt.rcParams[\"figure.figsize\"] = (8, 6)\n",
    "plt.style.use(\"ggplot\")\n",
    "print('tensorflow ', tf.__version__) \n",
    "print('pytorch ', torch.__version__) \n",
    "print('numpy ', np.__version__) \n",
    "print('gpflow ', gpflow.__version__) \n",
    "print('pandas ', pd.__version__) \n",
    "tf.random.set_seed(42)\n",
    "np.random.seed(42)"
   ]
  },
  {
   "attachments": {},
   "cell_type": "markdown",
   "metadata": {},
   "source": [
    "## Import the Wine Dataset"
   ]
  },
  {
   "cell_type": "code",
   "execution_count": 2,
   "metadata": {},
   "outputs": [],
   "source": [
    "def csv_to_pth(name, csv_path, pth_path):\n",
    "    def dataframe_to_arrays(df):\n",
    "        df_ = df.copy(deep=True)\n",
    "        X = np.atleast_2d(df_[input_cols].to_numpy())\n",
    "        Y = np.atleast_2d(df_[output_cols].to_numpy().reshape(-1,1))\n",
    "        return X, Y\n",
    "    dataframe_raw = pd.read_csv(csv_path)\n",
    "    dataframe_raw.head()\n",
    "    input_cols = list(dataframe_raw.columns)[:-1]\n",
    "    output_cols = list(dataframe_raw.columns)[-1]\n",
    "    X, Y = dataframe_to_arrays(dataframe_raw)\n",
    "    X = (X - np.mean(X, axis=0)) / np.std(X, axis=0)\n",
    "    inputs = torch.tensor(X, dtype=torch.float64)\n",
    "    targets = torch.tensor(Y, dtype=torch.float64)\n",
    "    torch.save([inputs, targets], pth_path + name + '.pth')\n",
    "    return input_cols, output_cols\n",
    "input_cols, output_cols = csv_to_pth(\"wine\", \"data/winequality-red.csv\", \"data/\")"
   ]
  },
  {
   "cell_type": "code",
   "execution_count": 18,
   "metadata": {},
   "outputs": [],
   "source": [
    "X, Y = create_dataset('yacht', 42, False)\n",
    "Y_mean, Y_std = Y.mean(0), Y.std(0) + 1e-9\n",
    "Y = (Y - Y_mean) / Y_std"
   ]
  },
  {
   "cell_type": "code",
   "execution_count": 23,
   "metadata": {},
   "outputs": [],
   "source": [
    "kfolds = KFold(n_splits = 8)\n",
    "reg = 0.1\n",
    "results = {'train_rmse': [], \n",
    "                'test_rmse': [], \n",
    "                'train_mnll': [], \n",
    "                'test_mnll': [], \n",
    "                'avg_train_rmse': 0.,\n",
    "                'avg_test_rmse': 0.,\n",
    "                'avg_train_mnll': 0.,\n",
    "                'avg_test_mnll': 0.,}\n",
    "D = X.shape[1]\n",
    "for _ , (train_index, test_index) in enumerate(kfolds.split(X)):\n",
    "    # Define X_train, Y_train, X_test, Y_test for fold i\n",
    "    X_train = X[train_index,:]\n",
    "    X_test = X[test_index,:]\n",
    "    Y_train = Y[train_index]\n",
    "    Y_test = Y[test_index]\n",
    "    Y_train_mean, Y_train_std = Y_train.mean(0), Y_train.std(0) + 1e-9\n",
    "    Y_train = (Y_train - Y_train_mean) / Y_train_std\n",
    "    Y_test = (Y_test - Y_train_mean) / Y_train_std\n",
    "\n",
    "    lengthscales = tf.constant([D**0.5]*D, dtype=tf.float64)\n",
    "    Lambda_L = get_lower_triangular_from_diag(lengthscales)\n",
    "    Lambda_L_array = tfp.math.fill_triangular_inverse(Lambda_L)\n",
    "    kernel = LambdaRBF(Lambda_L_array, 1.0)\n",
    "\n",
    "\n",
    "    gp_model = gpflow.models.GPR(\n",
    "        (X_train, Y_train),\n",
    "        kernel=kernel,\n",
    "    )\n",
    "    opt = gpflow.optimizers.Scipy()\n",
    "    def regularized_training_loss():\n",
    "        return -(gp_model.log_marginal_likelihood() + gp_model.log_prior_density()) + reg * tf.norm(gp_model.kernel.get_Lambda(), ord=1)\n",
    "    opt.minimize(regularized_training_loss, gp_model.trainable_variables)\n",
    "            \n",
    "    # Measure performances\n",
    "    train_rmse_stan, test_rmse_stan = measure_rmse(gp_model, X_train, Y_train, X_test, Y_test)\n",
    "    train_mnll, test_mnll = measure_mnll(gp_model, X_train, Y_train, Y_train_std, X_test, Y_test)\n",
    "    results['train_rmse'].append(train_rmse_stan)\n",
    "    results['test_rmse'].append(test_rmse_stan)\n",
    "    results['train_mnll'].append(train_mnll)\n",
    "    results['test_mnll'].append(test_mnll)\n",
    "results['avg_train_rmse'] = np.mean(results['train_rmse'])\n",
    "results['avg_test_rmse'] = np.mean(results['test_rmse'])\n",
    "results['avg_train_mnll'] = np.mean(results['train_mnll'])\n",
    "results['avg_test_mnll'] = np.mean(results['test_mnll'])"
   ]
  },
  {
   "cell_type": "code",
   "execution_count": 25,
   "metadata": {},
   "outputs": [
    {
     "data": {
      "text/plain": [
       "[0.04592536917857913,\n",
       " 0.08521138493656973,\n",
       " 0.09767356347670775,\n",
       " 0.06608349007500866,\n",
       " 0.6422484759346614,\n",
       " 0.10973715907474184,\n",
       " 0.10518418612091732,\n",
       " 0.140933181637825]"
      ]
     },
     "execution_count": 25,
     "metadata": {},
     "output_type": "execute_result"
    }
   ],
   "source": [
    "results['test_rmse']"
   ]
  },
  {
   "cell_type": "code",
   "execution_count": 11,
   "metadata": {},
   "outputs": [
    {
     "data": {
      "text/html": [
       "<table>\n",
       "<thead>\n",
       "<tr><th>name                   </th><th>class    </th><th>transform       </th><th>prior  </th><th>trainable  </th><th>shape  </th><th>dtype  </th><th>value              </th></tr>\n",
       "</thead>\n",
       "<tbody>\n",
       "<tr><td>GPR.kernel.Lambda_L    </td><td>Parameter</td><td>Identity        </td><td>       </td><td>True       </td><td>(66,)  </td><td>float64</td><td>[0.30151, 0., 0....</td></tr>\n",
       "<tr><td>GPR.kernel.variance    </td><td>Parameter</td><td>Softplus        </td><td>       </td><td>True       </td><td>()     </td><td>float64</td><td>1.0                </td></tr>\n",
       "<tr><td>GPR.likelihood.variance</td><td>Parameter</td><td>Softplus + Shift</td><td>       </td><td>True       </td><td>()     </td><td>float64</td><td>1.0                </td></tr>\n",
       "</tbody>\n",
       "</table>"
      ],
      "text/plain": [
       "<IPython.core.display.HTML object>"
      ]
     },
     "metadata": {},
     "output_type": "display_data"
    }
   ],
   "source": [
    "model_GPR_LRBF, Lambda = train_GPR_LRBF_model(X_train=X, Y_train=Y, reg=-1, prior=None, iprint=False)"
   ]
  },
  {
   "cell_type": "code",
   "execution_count": 12,
   "metadata": {},
   "outputs": [
    {
     "data": {
      "text/plain": [
       "<AxesSubplot: >"
      ]
     },
     "execution_count": 12,
     "metadata": {},
     "output_type": "execute_result"
    },
    {
     "data": {
      "image/png": "[encoded data removed]",
      "text/plain": [
       "<Figure size 800x600 with 2 Axes>"
      ]
     },
     "metadata": {},
     "output_type": "display_data"
    }
   ],
   "source": [
    "min = np.min(Lambda)\n",
    "max = np.max(Lambda)\n",
    "center = (min+max)/2\n",
    "sns.heatmap(Lambda, annot=False, cmap='vlag', vmax=max, vmin=-max, center=0, linewidth=.5)"
   ]
  },
  {
   "cell_type": "code",
   "execution_count": 9,
   "metadata": {},
   "outputs": [],
   "source": [
    "def sparsity_degree(L, tol=10e-2):\n",
    "    return (np.absolute(L.numpy()) < tol).sum() / Lambda.shape[0]**2"
   ]
  },
  {
   "cell_type": "code",
   "execution_count": 14,
   "metadata": {},
   "outputs": [
    {
     "data": {
      "text/plain": [
       "0.9669421487603306"
      ]
     },
     "execution_count": 14,
     "metadata": {},
     "output_type": "execute_result"
    }
   ],
   "source": [
    "sparsity_degree(Lambda, tol=10e-2)"
   ]
  },
  {
   "cell_type": "code",
   "execution_count": 48,
   "metadata": {},
   "outputs": [
    {
     "data": {
      "text/plain": [
       "0.0"
      ]
     },
     "execution_count": 48,
     "metadata": {},
     "output_type": "execute_result"
    }
   ],
   "source": [
    "sparsity_degree(tf.linalg.inv(Lambda))"
   ]
  }
 ],
 "metadata": {
  "kernelspec": {
   "display_name": "sproj",
   "language": "python",
   "name": "python3"
  },
  "language_info": {
   "codemirror_mode": {
    "name": "ipython",
    "version": 3
   },
   "file_extension": ".py",
   "mimetype": "text/x-python",
   "name": "python",
   "nbconvert_exporter": "python",
   "pygments_lexer": "ipython3",
   "version": "3.8.16"
  },
  "orig_nbformat": 4
 },
 "nbformat": 4,
 "nbformat_minor": 2
}
