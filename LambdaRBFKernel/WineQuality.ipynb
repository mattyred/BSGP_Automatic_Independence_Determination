{
 "cells": [
  {
   "attachments": {},
   "cell_type": "markdown",
   "metadata": {},
   "source": [
    "# Wine Quality Dataset - Precise GP"
   ]
  },
  {
   "cell_type": "code",
   "execution_count": 1,
   "metadata": {},
   "outputs": [
    {
     "name": "stderr",
     "output_type": "stream",
     "text": [
      "2023-04-09 18:57:18.426226: I tensorflow/core/platform/cpu_feature_guard.cc:193] This TensorFlow binary is optimized with oneAPI Deep Neural Network Library (oneDNN) to use the following CPU instructions in performance-critical operations:  AVX2 FMA\n",
      "To enable them in other operations, rebuild TensorFlow with the appropriate compiler flags.\n"
     ]
    },
    {
     "name": "stdout",
     "output_type": "stream",
     "text": [
      "tensorflow  2.11.0\n",
      "pytorch  1.13.1\n",
      "numpy  1.22.4\n",
      "gpflow  2.7.0\n",
      "pandas  1.5.3\n"
     ]
    }
   ],
   "source": [
    "import matplotlib.pyplot as plt # 3.6\n",
    "import numpy as np # 1.22.4\n",
    "import tensorflow as tf # 2.11.0\n",
    "import gpflow # 2.7.0\n",
    "import pandas as pd\n",
    "import tensorflow_probability as tfp\n",
    "from tensorflow import keras\n",
    "import seaborn as sns\n",
    "import torch\n",
    "from tensorflow.python.ops.numpy_ops import np_config\n",
    "from LambdaRBF import LambdaRBF\n",
    "from utils import *\n",
    "import pandas as pd\n",
    "import os\n",
    "np_config.enable_numpy_behavior()\n",
    "plt.rcParams[\"figure.figsize\"] = (8, 6)\n",
    "plt.style.use(\"ggplot\")\n",
    "print('tensorflow ', tf.__version__) \n",
    "print('pytorch ', torch.__version__) \n",
    "print('numpy ', np.__version__) \n",
    "print('gpflow ', gpflow.__version__) \n",
    "print('pandas ', pd.__version__) \n",
    "tf.random.set_seed(42)\n",
    "np.random.seed(42)"
   ]
  },
  {
   "attachments": {},
   "cell_type": "markdown",
   "metadata": {},
   "source": [
    "## Import the Wine Dataset"
   ]
  },
  {
   "cell_type": "code",
   "execution_count": 2,
   "metadata": {},
   "outputs": [],
   "source": [
    "def csv_to_pth(name, csv_path, pth_path):\n",
    "    def dataframe_to_arrays(df):\n",
    "        df_ = df.copy(deep=True)\n",
    "        X = np.atleast_2d(df_[input_cols].to_numpy())\n",
    "        Y = np.atleast_2d(df_[output_cols].to_numpy().reshape(-1,1))\n",
    "        return X, Y\n",
    "    dataframe_raw = pd.read_csv(csv_path)\n",
    "    dataframe_raw.head()\n",
    "    input_cols = list(dataframe_raw.columns)[:-1]\n",
    "    output_cols = list(dataframe_raw.columns)[-1]\n",
    "    X, Y = dataframe_to_arrays(dataframe_raw)\n",
    "    X = (X - np.mean(X, axis=0)) / np.std(X, axis=0)\n",
    "    inputs = torch.tensor(X, dtype=torch.float64)\n",
    "    targets = torch.tensor(Y, dtype=torch.float64)\n",
    "    torch.save([inputs, targets], pth_path + name + '.pth')\n",
    "    return input_cols, output_cols\n",
    "input_cols, output_cols = csv_to_pth(\"wine\", \"data/winequality-red.csv\", \"data/\")"
   ]
  },
  {
   "cell_type": "code",
   "execution_count": 19,
   "metadata": {},
   "outputs": [],
   "source": [
    "X, Y = create_dataset('boston', 42, False)\n",
    "Y_mean, Y_std = Y.mean(0), Y.std(0) + 1e-9\n",
    "Y = (Y - Y_mean) / Y_std"
   ]
  },
  {
   "cell_type": "code",
   "execution_count": 20,
   "metadata": {},
   "outputs": [
    {
     "data": {
      "text/html": [
       "<table>\n",
       "<thead>\n",
       "<tr><th>name                   </th><th>class    </th><th>transform       </th><th>prior  </th><th>trainable  </th><th>shape  </th><th>dtype  </th><th>value              </th></tr>\n",
       "</thead>\n",
       "<tbody>\n",
       "<tr><td>GPR.kernel.Lambda_L    </td><td>Parameter</td><td>Identity        </td><td>       </td><td>True       </td><td>(91,)  </td><td>float64</td><td>[0.27735, 0., 0....</td></tr>\n",
       "<tr><td>GPR.kernel.variance    </td><td>Parameter</td><td>Softplus        </td><td>       </td><td>True       </td><td>()     </td><td>float64</td><td>1.0                </td></tr>\n",
       "<tr><td>GPR.likelihood.variance</td><td>Parameter</td><td>Softplus + Shift</td><td>       </td><td>True       </td><td>()     </td><td>float64</td><td>1.0                </td></tr>\n",
       "</tbody>\n",
       "</table>"
      ],
      "text/plain": [
       "<IPython.core.display.HTML object>"
      ]
     },
     "metadata": {},
     "output_type": "display_data"
    }
   ],
   "source": [
    "model_GPR_LRBF, Lambda = train_GPR_LRBF_model(X_train=X, Y_train=Y, reg=1, prior=None, iprint=False)"
   ]
  },
  {
   "cell_type": "code",
   "execution_count": 22,
   "metadata": {},
   "outputs": [
    {
     "data": {
      "text/plain": [
       "<AxesSubplot: >"
      ]
     },
     "execution_count": 22,
     "metadata": {},
     "output_type": "execute_result"
    },
    {
     "data": {
      "image/png": "[encoded data removed]",
      "text/plain": [
       "<Figure size 800x600 with 2 Axes>"
      ]
     },
     "metadata": {},
     "output_type": "display_data"
    }
   ],
   "source": [
    "min = np.min(Lambda)\n",
    "max = np.max(Lambda)\n",
    "center = (min+max)/2\n",
    "sns.heatmap(Lambda, annot=False, cmap='vlag', vmax=max, vmin=-max, center=0, linewidth=.5)"
   ]
  },
  {
   "cell_type": "code",
   "execution_count": 23,
   "metadata": {},
   "outputs": [],
   "source": [
    "def sparsity_degree(L, tol=10e-2):\n",
    "    return (np.absolute(L.numpy()) < tol).sum() / Lambda.shape[0]**2"
   ]
  },
  {
   "cell_type": "code",
   "execution_count": 24,
   "metadata": {},
   "outputs": [
    {
     "data": {
      "text/plain": [
       "0.8165680473372781"
      ]
     },
     "execution_count": 24,
     "metadata": {},
     "output_type": "execute_result"
    }
   ],
   "source": [
    "sparsity_degree(Lambda, tol=10e-2)"
   ]
  },
  {
   "cell_type": "code",
   "execution_count": 48,
   "metadata": {},
   "outputs": [
    {
     "data": {
      "text/plain": [
       "0.0"
      ]
     },
     "execution_count": 48,
     "metadata": {},
     "output_type": "execute_result"
    }
   ],
   "source": [
    "sparsity_degree(tf.linalg.inv(Lambda))"
   ]
  }
 ],
 "metadata": {
  "kernelspec": {
   "display_name": "sproj",
   "language": "python",
   "name": "python3"
  },
  "language_info": {
   "codemirror_mode": {
    "name": "ipython",
    "version": 3
   },
   "file_extension": ".py",
   "mimetype": "text/x-python",
   "name": "python",
   "nbconvert_exporter": "python",
   "pygments_lexer": "ipython3",
   "version": "3.8.16"
  },
  "orig_nbformat": 4
 },
 "nbformat": 4,
 "nbformat_minor": 2
}
